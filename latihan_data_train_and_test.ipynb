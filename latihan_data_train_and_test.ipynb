{
  "nbformat": 4,
  "nbformat_minor": 0,
  "metadata": {
    "colab": {
      "provenance": [],
      "authorship_tag": "ABX9TyPb1f50g22fPXDvpSjav4jb",
      "include_colab_link": true
    },
    "kernelspec": {
      "name": "python3",
      "display_name": "Python 3"
    },
    "language_info": {
      "name": "python"
    }
  },
  "cells": [
    {
      "cell_type": "markdown",
      "metadata": {
        "id": "view-in-github",
        "colab_type": "text"
      },
      "source": [
        "<a href=\"https://colab.research.google.com/github/azissukmawan/learn-library-machine-learning/blob/main/latihan_data_train_and_test.ipynb\" target=\"_parent\"><img src=\"https://colab.research.google.com/assets/colab-badge.svg\" alt=\"Open In Colab\"/></a>"
      ]
    },
    {
      "cell_type": "code",
      "execution_count": 1,
      "metadata": {
        "id": "m67R3YfJDqYC"
      },
      "outputs": [],
      "source": [
        "import sklearn\n",
        "from sklearn import datasets\n",
        "from sklearn.model_selection import train_test_split"
      ]
    },
    {
      "cell_type": "code",
      "source": [
        "# load iris dataset\n",
        "# x = atribute/data = info dari data tersebut\n",
        "# y = label/target = hasil dari data tersebut\n",
        "# misalnya label dari harga rumah dari sekian\n",
        "#  dengan attribute semen, genteng, tembok, dll.\n",
        "\n",
        "# pisahkan atribut dan label pada iris dataset\n",
        "iris = datasets.load_iris()\n",
        "x = iris.data\n",
        "y = iris.target\n",
        "\n",
        "print(\"data attribute/n\", x[0:5])\n",
        "print(\"data label/n\", y)"
      ],
      "metadata": {
        "id": "yX-rnHpNEPSq",
        "colab": {
          "base_uri": "https://localhost:8080/"
        },
        "outputId": "2a2e4fbe-3a3c-4238-999c-58c5e0a29559"
      },
      "execution_count": 5,
      "outputs": [
        {
          "output_type": "stream",
          "name": "stdout",
          "text": [
            "data attribute/n [[5.1 3.5 1.4 0.2]\n",
            " [4.9 3.  1.4 0.2]\n",
            " [4.7 3.2 1.3 0.2]\n",
            " [4.6 3.1 1.5 0.2]\n",
            " [5.  3.6 1.4 0.2]]\n",
            "data label/n [0 0 0 0 0 0 0 0 0 0 0 0 0 0 0 0 0 0 0 0 0 0 0 0 0 0 0 0 0 0 0 0 0 0 0 0 0\n",
            " 0 0 0 0 0 0 0 0 0 0 0 0 0 1 1 1 1 1 1 1 1 1 1 1 1 1 1 1 1 1 1 1 1 1 1 1 1\n",
            " 1 1 1 1 1 1 1 1 1 1 1 1 1 1 1 1 1 1 1 1 1 1 1 1 1 1 2 2 2 2 2 2 2 2 2 2 2\n",
            " 2 2 2 2 2 2 2 2 2 2 2 2 2 2 2 2 2 2 2 2 2 2 2 2 2 2 2 2 2 2 2 2 2 2 2 2 2\n",
            " 2 2]\n"
          ]
        }
      ]
    },
    {
      "cell_type": "markdown",
      "source": [
        "Train_test_split memiliki parameter x yaitu atribut dari dataset, y yaitu target dari dataset, dan test_size yaitu persentase test set dari dataset utuh dan random_state untuk membuat sample acak pada data testing supaya akurat dengan data baru yang di pisahkan.\n",
        "Train_test_split mengembalikan 4 nilai yaitu, atribut dari train set, atribut dari test set, target dari train set, dan target dari test set."
      ],
      "metadata": {
        "id": "Pqgg89dsYPYD"
      }
    },
    {
      "cell_type": "code",
      "source": [
        "# membagi dataset menjadi training dan testing\n",
        "# x_train = train data dari atribute\n",
        "# x_test = test data dari atribute\n",
        "# y_train = train data dari target/label\n",
        "# y_test = test data dari target/label\n",
        "x_train, x_test, y_train, y_test = train_test_split(x, y, test_size=0.2, random_state=1)\n",
        "\n",
        "# menghitung panjang/jumlah data pada x_test dari rasio 20%\n",
        "len(x_test)"
      ],
      "metadata": {
        "colab": {
          "base_uri": "https://localhost:8080/"
        },
        "id": "l6_3YAE8GttS",
        "outputId": "551819af-6043-41d5-8f86-c4eb06d04404"
      },
      "execution_count": 7,
      "outputs": [
        {
          "output_type": "execute_result",
          "data": {
            "text/plain": [
              "30"
            ]
          },
          "metadata": {},
          "execution_count": 7
        }
      ]
    }
  ]
}