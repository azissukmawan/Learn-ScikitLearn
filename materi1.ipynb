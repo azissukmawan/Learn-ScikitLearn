{
  "nbformat": 4,
  "nbformat_minor": 0,
  "metadata": {
    "colab": {
      "provenance": [],
      "authorship_tag": "ABX9TyMI0uRaYPjqSRWy3BGXQ/AC",
      "include_colab_link": true
    },
    "kernelspec": {
      "name": "python3",
      "display_name": "Python 3"
    },
    "language_info": {
      "name": "python"
    }
  },
  "cells": [
    {
      "cell_type": "markdown",
      "metadata": {
        "id": "view-in-github",
        "colab_type": "text"
      },
      "source": [
        "<a href=\"https://colab.research.google.com/github/azissukmawan/learn-library-machine-learning/blob/main/materi1.ipynb\" target=\"_parent\"><img src=\"https://colab.research.google.com/assets/colab-badge.svg\" alt=\"Open In Colab\"/></a>"
      ]
    },
    {
      "cell_type": "code",
      "execution_count": null,
      "metadata": {
        "id": "9hWd0P9QAy2F"
      },
      "outputs": [],
      "source": [
        "import os\n",
        "import pandas as pd\n",
        "from sklearn.preprocessing import MinMaxScaler\n",
        "from sklearn import preprocessing\n",
        "from sklearn.model_selection import train_test_split"
      ]
    },
    {
      "cell_type": "code",
      "source": [
        "os.listdir('sample_data')\n",
        "df = pd.read_csv('sample_data/california_housing_train.csv')\n",
        "df.head()"
      ],
      "metadata": {
        "colab": {
          "base_uri": "https://localhost:8080/",
          "height": 206
        },
        "id": "i_fZyi7XrKqp",
        "outputId": "3506610d-471a-462c-e191-cc1c18ae2296"
      },
      "execution_count": null,
      "outputs": [
        {
          "output_type": "execute_result",
          "data": {
            "text/plain": [
              "   longitude  latitude  housing_median_age  total_rooms  total_bedrooms  \\\n",
              "0    -114.31     34.19                15.0       5612.0          1283.0   \n",
              "1    -114.47     34.40                19.0       7650.0          1901.0   \n",
              "2    -114.56     33.69                17.0        720.0           174.0   \n",
              "3    -114.57     33.64                14.0       1501.0           337.0   \n",
              "4    -114.57     33.57                20.0       1454.0           326.0   \n",
              "\n",
              "   population  households  median_income  median_house_value  \n",
              "0      1015.0       472.0         1.4936             66900.0  \n",
              "1      1129.0       463.0         1.8200             80100.0  \n",
              "2       333.0       117.0         1.6509             85700.0  \n",
              "3       515.0       226.0         3.1917             73400.0  \n",
              "4       624.0       262.0         1.9250             65500.0  "
            ],
            "text/html": [
              "\n",
              "  <div id=\"df-b5bd614a-f6cf-4144-82cf-ea400537a81a\" class=\"colab-df-container\">\n",
              "    <div>\n",
              "<style scoped>\n",
              "    .dataframe tbody tr th:only-of-type {\n",
              "        vertical-align: middle;\n",
              "    }\n",
              "\n",
              "    .dataframe tbody tr th {\n",
              "        vertical-align: top;\n",
              "    }\n",
              "\n",
              "    .dataframe thead th {\n",
              "        text-align: right;\n",
              "    }\n",
              "</style>\n",
              "<table border=\"1\" class=\"dataframe\">\n",
              "  <thead>\n",
              "    <tr style=\"text-align: right;\">\n",
              "      <th></th>\n",
              "      <th>longitude</th>\n",
              "      <th>latitude</th>\n",
              "      <th>housing_median_age</th>\n",
              "      <th>total_rooms</th>\n",
              "      <th>total_bedrooms</th>\n",
              "      <th>population</th>\n",
              "      <th>households</th>\n",
              "      <th>median_income</th>\n",
              "      <th>median_house_value</th>\n",
              "    </tr>\n",
              "  </thead>\n",
              "  <tbody>\n",
              "    <tr>\n",
              "      <th>0</th>\n",
              "      <td>-114.31</td>\n",
              "      <td>34.19</td>\n",
              "      <td>15.0</td>\n",
              "      <td>5612.0</td>\n",
              "      <td>1283.0</td>\n",
              "      <td>1015.0</td>\n",
              "      <td>472.0</td>\n",
              "      <td>1.4936</td>\n",
              "      <td>66900.0</td>\n",
              "    </tr>\n",
              "    <tr>\n",
              "      <th>1</th>\n",
              "      <td>-114.47</td>\n",
              "      <td>34.40</td>\n",
              "      <td>19.0</td>\n",
              "      <td>7650.0</td>\n",
              "      <td>1901.0</td>\n",
              "      <td>1129.0</td>\n",
              "      <td>463.0</td>\n",
              "      <td>1.8200</td>\n",
              "      <td>80100.0</td>\n",
              "    </tr>\n",
              "    <tr>\n",
              "      <th>2</th>\n",
              "      <td>-114.56</td>\n",
              "      <td>33.69</td>\n",
              "      <td>17.0</td>\n",
              "      <td>720.0</td>\n",
              "      <td>174.0</td>\n",
              "      <td>333.0</td>\n",
              "      <td>117.0</td>\n",
              "      <td>1.6509</td>\n",
              "      <td>85700.0</td>\n",
              "    </tr>\n",
              "    <tr>\n",
              "      <th>3</th>\n",
              "      <td>-114.57</td>\n",
              "      <td>33.64</td>\n",
              "      <td>14.0</td>\n",
              "      <td>1501.0</td>\n",
              "      <td>337.0</td>\n",
              "      <td>515.0</td>\n",
              "      <td>226.0</td>\n",
              "      <td>3.1917</td>\n",
              "      <td>73400.0</td>\n",
              "    </tr>\n",
              "    <tr>\n",
              "      <th>4</th>\n",
              "      <td>-114.57</td>\n",
              "      <td>33.57</td>\n",
              "      <td>20.0</td>\n",
              "      <td>1454.0</td>\n",
              "      <td>326.0</td>\n",
              "      <td>624.0</td>\n",
              "      <td>262.0</td>\n",
              "      <td>1.9250</td>\n",
              "      <td>65500.0</td>\n",
              "    </tr>\n",
              "  </tbody>\n",
              "</table>\n",
              "</div>\n",
              "    <div class=\"colab-df-buttons\">\n",
              "\n",
              "  <div class=\"colab-df-container\">\n",
              "    <button class=\"colab-df-convert\" onclick=\"convertToInteractive('df-b5bd614a-f6cf-4144-82cf-ea400537a81a')\"\n",
              "            title=\"Convert this dataframe to an interactive table.\"\n",
              "            style=\"display:none;\">\n",
              "\n",
              "  <svg xmlns=\"http://www.w3.org/2000/svg\" height=\"24px\" viewBox=\"0 -960 960 960\">\n",
              "    <path d=\"M120-120v-720h720v720H120Zm60-500h600v-160H180v160Zm220 220h160v-160H400v160Zm0 220h160v-160H400v160ZM180-400h160v-160H180v160Zm440 0h160v-160H620v160ZM180-180h160v-160H180v160Zm440 0h160v-160H620v160Z\"/>\n",
              "  </svg>\n",
              "    </button>\n",
              "\n",
              "  <style>\n",
              "    .colab-df-container {\n",
              "      display:flex;\n",
              "      gap: 12px;\n",
              "    }\n",
              "\n",
              "    .colab-df-convert {\n",
              "      background-color: #E8F0FE;\n",
              "      border: none;\n",
              "      border-radius: 50%;\n",
              "      cursor: pointer;\n",
              "      display: none;\n",
              "      fill: #1967D2;\n",
              "      height: 32px;\n",
              "      padding: 0 0 0 0;\n",
              "      width: 32px;\n",
              "    }\n",
              "\n",
              "    .colab-df-convert:hover {\n",
              "      background-color: #E2EBFA;\n",
              "      box-shadow: 0px 1px 2px rgba(60, 64, 67, 0.3), 0px 1px 3px 1px rgba(60, 64, 67, 0.15);\n",
              "      fill: #174EA6;\n",
              "    }\n",
              "\n",
              "    .colab-df-buttons div {\n",
              "      margin-bottom: 4px;\n",
              "    }\n",
              "\n",
              "    [theme=dark] .colab-df-convert {\n",
              "      background-color: #3B4455;\n",
              "      fill: #D2E3FC;\n",
              "    }\n",
              "\n",
              "    [theme=dark] .colab-df-convert:hover {\n",
              "      background-color: #434B5C;\n",
              "      box-shadow: 0px 1px 3px 1px rgba(0, 0, 0, 0.15);\n",
              "      filter: drop-shadow(0px 1px 2px rgba(0, 0, 0, 0.3));\n",
              "      fill: #FFFFFF;\n",
              "    }\n",
              "  </style>\n",
              "\n",
              "    <script>\n",
              "      const buttonEl =\n",
              "        document.querySelector('#df-b5bd614a-f6cf-4144-82cf-ea400537a81a button.colab-df-convert');\n",
              "      buttonEl.style.display =\n",
              "        google.colab.kernel.accessAllowed ? 'block' : 'none';\n",
              "\n",
              "      async function convertToInteractive(key) {\n",
              "        const element = document.querySelector('#df-b5bd614a-f6cf-4144-82cf-ea400537a81a');\n",
              "        const dataTable =\n",
              "          await google.colab.kernel.invokeFunction('convertToInteractive',\n",
              "                                                    [key], {});\n",
              "        if (!dataTable) return;\n",
              "\n",
              "        const docLinkHtml = 'Like what you see? Visit the ' +\n",
              "          '<a target=\"_blank\" href=https://colab.research.google.com/notebooks/data_table.ipynb>data table notebook</a>'\n",
              "          + ' to learn more about interactive tables.';\n",
              "        element.innerHTML = '';\n",
              "        dataTable['output_type'] = 'display_data';\n",
              "        await google.colab.output.renderOutput(dataTable, element);\n",
              "        const docLink = document.createElement('div');\n",
              "        docLink.innerHTML = docLinkHtml;\n",
              "        element.appendChild(docLink);\n",
              "      }\n",
              "    </script>\n",
              "  </div>\n",
              "\n",
              "\n",
              "<div id=\"df-94c2c105-52b6-4439-b4de-9ac5700fc2ac\">\n",
              "  <button class=\"colab-df-quickchart\" onclick=\"quickchart('df-94c2c105-52b6-4439-b4de-9ac5700fc2ac')\"\n",
              "            title=\"Suggest charts.\"\n",
              "            style=\"display:none;\">\n",
              "\n",
              "<svg xmlns=\"http://www.w3.org/2000/svg\" height=\"24px\"viewBox=\"0 0 24 24\"\n",
              "     width=\"24px\">\n",
              "    <g>\n",
              "        <path d=\"M19 3H5c-1.1 0-2 .9-2 2v14c0 1.1.9 2 2 2h14c1.1 0 2-.9 2-2V5c0-1.1-.9-2-2-2zM9 17H7v-7h2v7zm4 0h-2V7h2v10zm4 0h-2v-4h2v4z\"/>\n",
              "    </g>\n",
              "</svg>\n",
              "  </button>\n",
              "\n",
              "<style>\n",
              "  .colab-df-quickchart {\n",
              "      --bg-color: #E8F0FE;\n",
              "      --fill-color: #1967D2;\n",
              "      --hover-bg-color: #E2EBFA;\n",
              "      --hover-fill-color: #174EA6;\n",
              "      --disabled-fill-color: #AAA;\n",
              "      --disabled-bg-color: #DDD;\n",
              "  }\n",
              "\n",
              "  [theme=dark] .colab-df-quickchart {\n",
              "      --bg-color: #3B4455;\n",
              "      --fill-color: #D2E3FC;\n",
              "      --hover-bg-color: #434B5C;\n",
              "      --hover-fill-color: #FFFFFF;\n",
              "      --disabled-bg-color: #3B4455;\n",
              "      --disabled-fill-color: #666;\n",
              "  }\n",
              "\n",
              "  .colab-df-quickchart {\n",
              "    background-color: var(--bg-color);\n",
              "    border: none;\n",
              "    border-radius: 50%;\n",
              "    cursor: pointer;\n",
              "    display: none;\n",
              "    fill: var(--fill-color);\n",
              "    height: 32px;\n",
              "    padding: 0;\n",
              "    width: 32px;\n",
              "  }\n",
              "\n",
              "  .colab-df-quickchart:hover {\n",
              "    background-color: var(--hover-bg-color);\n",
              "    box-shadow: 0 1px 2px rgba(60, 64, 67, 0.3), 0 1px 3px 1px rgba(60, 64, 67, 0.15);\n",
              "    fill: var(--button-hover-fill-color);\n",
              "  }\n",
              "\n",
              "  .colab-df-quickchart-complete:disabled,\n",
              "  .colab-df-quickchart-complete:disabled:hover {\n",
              "    background-color: var(--disabled-bg-color);\n",
              "    fill: var(--disabled-fill-color);\n",
              "    box-shadow: none;\n",
              "  }\n",
              "\n",
              "  .colab-df-spinner {\n",
              "    border: 2px solid var(--fill-color);\n",
              "    border-color: transparent;\n",
              "    border-bottom-color: var(--fill-color);\n",
              "    animation:\n",
              "      spin 1s steps(1) infinite;\n",
              "  }\n",
              "\n",
              "  @keyframes spin {\n",
              "    0% {\n",
              "      border-color: transparent;\n",
              "      border-bottom-color: var(--fill-color);\n",
              "      border-left-color: var(--fill-color);\n",
              "    }\n",
              "    20% {\n",
              "      border-color: transparent;\n",
              "      border-left-color: var(--fill-color);\n",
              "      border-top-color: var(--fill-color);\n",
              "    }\n",
              "    30% {\n",
              "      border-color: transparent;\n",
              "      border-left-color: var(--fill-color);\n",
              "      border-top-color: var(--fill-color);\n",
              "      border-right-color: var(--fill-color);\n",
              "    }\n",
              "    40% {\n",
              "      border-color: transparent;\n",
              "      border-right-color: var(--fill-color);\n",
              "      border-top-color: var(--fill-color);\n",
              "    }\n",
              "    60% {\n",
              "      border-color: transparent;\n",
              "      border-right-color: var(--fill-color);\n",
              "    }\n",
              "    80% {\n",
              "      border-color: transparent;\n",
              "      border-right-color: var(--fill-color);\n",
              "      border-bottom-color: var(--fill-color);\n",
              "    }\n",
              "    90% {\n",
              "      border-color: transparent;\n",
              "      border-bottom-color: var(--fill-color);\n",
              "    }\n",
              "  }\n",
              "</style>\n",
              "\n",
              "  <script>\n",
              "    async function quickchart(key) {\n",
              "      const quickchartButtonEl =\n",
              "        document.querySelector('#' + key + ' button');\n",
              "      quickchartButtonEl.disabled = true;  // To prevent multiple clicks.\n",
              "      quickchartButtonEl.classList.add('colab-df-spinner');\n",
              "      try {\n",
              "        const charts = await google.colab.kernel.invokeFunction(\n",
              "            'suggestCharts', [key], {});\n",
              "      } catch (error) {\n",
              "        console.error('Error during call to suggestCharts:', error);\n",
              "      }\n",
              "      quickchartButtonEl.classList.remove('colab-df-spinner');\n",
              "      quickchartButtonEl.classList.add('colab-df-quickchart-complete');\n",
              "    }\n",
              "    (() => {\n",
              "      let quickchartButtonEl =\n",
              "        document.querySelector('#df-94c2c105-52b6-4439-b4de-9ac5700fc2ac button');\n",
              "      quickchartButtonEl.style.display =\n",
              "        google.colab.kernel.accessAllowed ? 'block' : 'none';\n",
              "    })();\n",
              "  </script>\n",
              "</div>\n",
              "    </div>\n",
              "  </div>\n"
            ]
          },
          "metadata": {},
          "execution_count": 2
        }
      ]
    },
    {
      "cell_type": "markdown",
      "source": [
        "    "
      ],
      "metadata": {
        "id": "DJJKgY0ATxSn"
      }
    },
    {
      "cell_type": "markdown",
      "source": [
        "**Normalization** adalah salah satu teknik yang dipakai dalam data preparation. Tujuan dari normalisasi adalah mengubah nilai-nilai dari sebuah fitur ke dalam skala yang sama. Normalization memungkinkan kenaikan performa dan stabilitas dari sebuah model machine learning.\n",
        "\n",
        "Normalization dengan teknik MinMax.\n",
        "**min-max scaling di mana nilai-nilai dipetakan ke dalam skala 0 sampai 1.**\n"
      ],
      "metadata": {
        "id": "X0bs2O1SRr8Y"
      }
    },
    {
      "cell_type": "markdown",
      "source": [
        "![Screenshot (619).png](data:image/png;base64,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)"
      ],
      "metadata": {
        "id": "R34DuXSbTRo9"
      }
    },
    {
      "cell_type": "markdown",
      "source": [
        "objek MinMaxScaler dan panggil fungsi fit() dan mengisi argumen data seperti potongan kode di bawah. Fungsi fit() dari objek MinMaxScaler adalah fungsi untuk menghitung nilai minimum dan maksimum pada tiap kolom."
      ],
      "metadata": {
        "id": "43SlgN4ZTBel"
      }
    },
    {
      "cell_type": "code",
      "source": [
        "data = [[12000000, 33], [35000000, 45], [4000000, 23], [6500000, 26], [9000000, 29]]\n",
        "scaler = MinMaxScaler()\n",
        "scaler.fit(data)"
      ],
      "metadata": {
        "colab": {
          "base_uri": "https://localhost:8080/",
          "height": 51
        },
        "id": "5M7Z7X6U5KQf",
        "outputId": "dbdd086f-7e76-41a9-ac82-6b9c6e82c1c3"
      },
      "execution_count": null,
      "outputs": [
        {
          "output_type": "execute_result",
          "data": {
            "text/plain": [
              "MinMaxScaler()"
            ],
            "text/html": [
              "<style>#sk-container-id-2 {color: black;background-color: white;}#sk-container-id-2 pre{padding: 0;}#sk-container-id-2 div.sk-toggleable {background-color: white;}#sk-container-id-2 label.sk-toggleable__label {cursor: pointer;display: block;width: 100%;margin-bottom: 0;padding: 0.3em;box-sizing: border-box;text-align: center;}#sk-container-id-2 label.sk-toggleable__label-arrow:before {content: \"▸\";float: left;margin-right: 0.25em;color: #696969;}#sk-container-id-2 label.sk-toggleable__label-arrow:hover:before {color: black;}#sk-container-id-2 div.sk-estimator:hover label.sk-toggleable__label-arrow:before {color: black;}#sk-container-id-2 div.sk-toggleable__content {max-height: 0;max-width: 0;overflow: hidden;text-align: left;background-color: #f0f8ff;}#sk-container-id-2 div.sk-toggleable__content pre {margin: 0.2em;color: black;border-radius: 0.25em;background-color: #f0f8ff;}#sk-container-id-2 input.sk-toggleable__control:checked~div.sk-toggleable__content {max-height: 200px;max-width: 100%;overflow: auto;}#sk-container-id-2 input.sk-toggleable__control:checked~label.sk-toggleable__label-arrow:before {content: \"▾\";}#sk-container-id-2 div.sk-estimator input.sk-toggleable__control:checked~label.sk-toggleable__label {background-color: #d4ebff;}#sk-container-id-2 div.sk-label input.sk-toggleable__control:checked~label.sk-toggleable__label {background-color: #d4ebff;}#sk-container-id-2 input.sk-hidden--visually {border: 0;clip: rect(1px 1px 1px 1px);clip: rect(1px, 1px, 1px, 1px);height: 1px;margin: -1px;overflow: hidden;padding: 0;position: absolute;width: 1px;}#sk-container-id-2 div.sk-estimator {font-family: monospace;background-color: #f0f8ff;border: 1px dotted black;border-radius: 0.25em;box-sizing: border-box;margin-bottom: 0.5em;}#sk-container-id-2 div.sk-estimator:hover {background-color: #d4ebff;}#sk-container-id-2 div.sk-parallel-item::after {content: \"\";width: 100%;border-bottom: 1px solid gray;flex-grow: 1;}#sk-container-id-2 div.sk-label:hover label.sk-toggleable__label {background-color: #d4ebff;}#sk-container-id-2 div.sk-serial::before {content: \"\";position: absolute;border-left: 1px solid gray;box-sizing: border-box;top: 0;bottom: 0;left: 50%;z-index: 0;}#sk-container-id-2 div.sk-serial {display: flex;flex-direction: column;align-items: center;background-color: white;padding-right: 0.2em;padding-left: 0.2em;position: relative;}#sk-container-id-2 div.sk-item {position: relative;z-index: 1;}#sk-container-id-2 div.sk-parallel {display: flex;align-items: stretch;justify-content: center;background-color: white;position: relative;}#sk-container-id-2 div.sk-item::before, #sk-container-id-2 div.sk-parallel-item::before {content: \"\";position: absolute;border-left: 1px solid gray;box-sizing: border-box;top: 0;bottom: 0;left: 50%;z-index: -1;}#sk-container-id-2 div.sk-parallel-item {display: flex;flex-direction: column;z-index: 1;position: relative;background-color: white;}#sk-container-id-2 div.sk-parallel-item:first-child::after {align-self: flex-end;width: 50%;}#sk-container-id-2 div.sk-parallel-item:last-child::after {align-self: flex-start;width: 50%;}#sk-container-id-2 div.sk-parallel-item:only-child::after {width: 0;}#sk-container-id-2 div.sk-dashed-wrapped {border: 1px dashed gray;margin: 0 0.4em 0.5em 0.4em;box-sizing: border-box;padding-bottom: 0.4em;background-color: white;}#sk-container-id-2 div.sk-label label {font-family: monospace;font-weight: bold;display: inline-block;line-height: 1.2em;}#sk-container-id-2 div.sk-label-container {text-align: center;}#sk-container-id-2 div.sk-container {/* jupyter's `normalize.less` sets `[hidden] { display: none; }` but bootstrap.min.css set `[hidden] { display: none !important; }` so we also need the `!important` here to be able to override the default hidden behavior on the sphinx rendered scikit-learn.org. See: https://github.com/scikit-learn/scikit-learn/issues/21755 */display: inline-block !important;position: relative;}#sk-container-id-2 div.sk-text-repr-fallback {display: none;}</style><div id=\"sk-container-id-2\" class=\"sk-top-container\"><div class=\"sk-text-repr-fallback\"><pre>MinMaxScaler()</pre><b>In a Jupyter environment, please rerun this cell to show the HTML representation or trust the notebook. <br />On GitHub, the HTML representation is unable to render, please try loading this page with nbviewer.org.</b></div><div class=\"sk-container\" hidden><div class=\"sk-item\"><div class=\"sk-estimator sk-toggleable\"><input class=\"sk-toggleable__control sk-hidden--visually\" id=\"sk-estimator-id-2\" type=\"checkbox\" checked><label for=\"sk-estimator-id-2\" class=\"sk-toggleable__label sk-toggleable__label-arrow\">MinMaxScaler</label><div class=\"sk-toggleable__content\"><pre>MinMaxScaler()</pre></div></div></div></div></div>"
            ]
          },
          "metadata": {},
          "execution_count": 9
        }
      ]
    },
    {
      "cell_type": "code",
      "source": [
        "print(scaler.transform(data))"
      ],
      "metadata": {
        "colab": {
          "base_uri": "https://localhost:8080/"
        },
        "id": "FL_KvaMi5rIi",
        "outputId": "c4ed9855-ea23-470e-b976-6c216f513fc5"
      },
      "execution_count": null,
      "outputs": [
        {
          "output_type": "stream",
          "name": "stdout",
          "text": [
            "[[0.25806452 0.45454545]\n",
            " [1.         1.        ]\n",
            " [0.         0.        ]\n",
            " [0.08064516 0.13636364]\n",
            " [0.16129032 0.27272727]]\n"
          ]
        }
      ]
    },
    {
      "cell_type": "markdown",
      "source": [
        "![Screenshot (620).png](data:image/png;base64,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)"
      ],
      "metadata": {
        "id": "dyAhYfZtT67L"
      }
    },
    {
      "cell_type": "markdown",
      "source": [
        "**Standardization** adalah proses konversi nilai-nilai dari suatu fitur sehingga nilai-nilai tersebut memiliki skala yang sama.\n",
        "Fungsi standardisasi itu serupa dengan normalization. Keduanya berfungsi menyamakan skala nilai dari tiap atribut pada data."
      ],
      "metadata": {
        "id": "6RjPTPqeUph-"
      }
    },
    {
      "cell_type": "markdown",
      "source": [
        "object scaler dan panggil fungsi fit dari scaler pada data. Fungsi fit memiliki fungsi untuk menghitung rata-rata dan deviasi standar dari setiap kolom atribut untuk kemudian dipakai pada fungsi transform.\n",
        "\n",
        "Terakhir, panggil fungsi transform untuk mengaplikasikan standard scaler pada data."
      ],
      "metadata": {
        "id": "-TMHCo05VCq8"
      }
    },
    {
      "cell_type": "code",
      "source": [
        "scalar = preprocessing.StandardScaler().fit(data)\n",
        "result = scalar.transform(data)\n",
        "result"
      ],
      "metadata": {
        "colab": {
          "base_uri": "https://localhost:8080/"
        },
        "id": "apxGXm5N7yg4",
        "outputId": "12928b3a-d8bf-499f-9256-d51ea1c8dfe8"
      },
      "execution_count": null,
      "outputs": [
        {
          "output_type": "execute_result",
          "data": {
            "text/plain": [
              "array([[-0.11638732,  0.23521877],\n",
              "       [ 1.94277296,  1.80334389],\n",
              "       [-0.83261698, -1.07155217],\n",
              "       [-0.60879521, -0.67952089],\n",
              "       [-0.38497344, -0.28748961]])"
            ]
          },
          "metadata": {},
          "execution_count": 12
        }
      ]
    },
    {
      "cell_type": "markdown",
      "source": [
        "Pelatihan model pada train set, kemudian mengujinya pada test set --sekumpulan data yang belum dikenali model.\n",
        "\n",
        "Dengan fungsi train_test_split dari library sklearn, kita membagi array X dan y ke dalam 20% data testing (test_size=0.2 ). Misal total dataset A yang kita miliki adalah 1000 record, dengan test_size=0.2, maka data testing kita berjumlah 200 record dan jumlah data training sebesar 800 (80%)."
      ],
      "metadata": {
        "id": "QjBNtKHOQp7m"
      }
    },
    {
      "cell_type": "code",
      "source": [
        "X_data = range(10)\n",
        "y_data = range(10)\n",
        "\n",
        "\n",
        "#  Pada praktiknya, pembagian data training dan data testing yang paling umum adalah 80:20, 70:30, atau 60:40,\n",
        "#  tergantung dari ukuran atau jumlah data. Namun, untuk dataset berukuran besar, proporsi pembagian 90:10 atau 99:1 juga umum dilakukan.\n",
        "\n",
        "print(\"random_state ditentukan\")\n",
        "for i in range(3):\n",
        "    X_train, X_test, y_train, y_test = train_test_split(X_data, y_data, test_size = 0.3, random_state = 42)\n",
        "    print(y_test)\n",
        "\n",
        "\n",
        "print(\"random_state tidak ditentukan\")\n",
        "for i in range(3):\n",
        "    X_train, X_test, y_train, y_test = train_test_split(X_data, y_data, test_size = 0.3, random_state = None)\n",
        "    print(y_test)"
      ],
      "metadata": {
        "colab": {
          "base_uri": "https://localhost:8080/"
        },
        "id": "2KmVrLlJAo0e",
        "outputId": "c1fe9c5c-b4ee-4b29-ff34-e6704d248d09"
      },
      "execution_count": null,
      "outputs": [
        {
          "output_type": "stream",
          "name": "stdout",
          "text": [
            "random_state ditentukan\n",
            "[8, 1, 5]\n",
            "[8, 1, 5]\n",
            "[8, 1, 5]\n",
            "random_state tidak ditentukan\n",
            "[4, 9, 3]\n",
            "[6, 8, 9]\n",
            "[0, 3, 4]\n"
          ]
        }
      ]
    }
  ]
}